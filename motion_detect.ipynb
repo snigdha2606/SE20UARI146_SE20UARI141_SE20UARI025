{
  "nbformat": 4,
  "nbformat_minor": 0,
  "metadata": {
    "colab": {
      "provenance": [],
      "authorship_tag": "ABX9TyPumG9EFBgiszEXvv1FvxAx",
      "include_colab_link": true
    },
    "kernelspec": {
      "name": "python3",
      "display_name": "Python 3"
    },
    "language_info": {
      "name": "python"
    }
  },
  "cells": [
    {
      "cell_type": "markdown",
      "metadata": {
        "id": "view-in-github",
        "colab_type": "text"
      },
      "source": [
        "<a href=\"https://colab.research.google.com/github/snigdha2606/SE20UARI146_SE20UARI141_SE20UARI025/blob/main/motion_detect.ipynb\" target=\"_parent\"><img src=\"https://colab.research.google.com/assets/colab-badge.svg\" alt=\"Open In Colab\"/></a>"
      ]
    },
    {
      "cell_type": "code",
      "execution_count": null,
      "metadata": {
        "id": "BZMmNtI-vZov"
      },
      "outputs": [],
      "source": [
        "import RPi.GPIO as GPIO\n",
        "import time\n",
        "\n",
        "# Define the GPIO pin where the PIR sensor is connected\n",
        "pir_sensor_pin = 16\n",
        "\n",
        "# Set up GPIO mode and pin as input\n",
        "GPIO.setmode(GPIO.BOARD)  # Set GPIO mode to use physical pin numbering\n",
        "GPIO.setup(pir_sensor_pin, GPIO.IN)  # Configure the pin as an input\n",
        "\n",
        "try:\n",
        "    while True:\n",
        "        motion_detected = GPIO.input(pir_sensor_pin)  # Read the PIR sensor's state\n",
        "        if motion_detected:\n",
        "            print(\"Motion detected!\")  # Print a message if motion is detected\n",
        "        time.sleep(0.1)  # Introduce a 0.1-second delay between readings\n",
        "\n",
        "except KeyboardInterrupt:\n",
        "    print(\"Motion detection stopped.\")  # Print a message when the script is terminated\n",
        "\n",
        "finally:\n",
        "    GPIO.cleanup()  # Clean up GPIO resources when the script exits"
      ]
    }
  ]
}